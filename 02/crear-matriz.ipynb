{
 "cells": [
  {
   "cell_type": "code",
   "execution_count": 19,
   "id": "ed74de30",
   "metadata": {},
   "outputs": [],
   "source": [
    "import os\n",
    "import re\n",
    "import numpy as np\n",
    "import pickle\n"
   ]
  },
  {
   "cell_type": "code",
   "execution_count": 20,
   "id": "e1ea285f",
   "metadata": {},
   "outputs": [],
   "source": [
    "# Función para procesar el texto y extraer las palabras\n",
    "def procesar_texto(texto):\n",
    "    palabras = re.findall(r'\\b\\w+\\b', texto.lower())\n",
    "    return palabras"
   ]
  },
  {
   "cell_type": "code",
   "execution_count": 21,
   "id": "59d41121",
   "metadata": {},
   "outputs": [],
   "source": [
    "# Diccionario para almacenar el índice invertido\n",
    "indice_invertido = {}\n",
    "\n",
    "# Lista para almacenar los nombres de los archivos\n",
    "nombres_libros = []"
   ]
  },
  {
   "cell_type": "code",
   "execution_count": 22,
   "id": "a48f8348",
   "metadata": {},
   "outputs": [],
   "source": [
    "# Obtener la ruta completa de la carpeta con los libros\n",
    "ruta_carpeta = os.path.join(os.getcwd(),'..', 'books')"
   ]
  },
  {
   "cell_type": "code",
   "execution_count": 24,
   "id": "8fb68879",
   "metadata": {},
   "outputs": [
    {
     "name": "stdout",
     "output_type": "stream",
     "text": [
      "El tamaño de la lista de palabras en el archivo pg100.txt es: 996052\n",
      "El tamaño de la lista de palabras en el archivo pg10676.txt es: 120658\n",
      "El tamaño de la lista de palabras en el archivo pg10681.txt es: 207771\n",
      "El tamaño de la lista de palabras en el archivo pg1080.txt es: 6567\n",
      "El tamaño de la lista de palabras en el archivo pg11.txt es: 30591\n",
      "El tamaño de la lista de palabras en el archivo pg1184.txt es: 471179\n",
      "El tamaño de la lista de palabras en el archivo pg120.txt es: 73678\n",
      "El tamaño de la lista de palabras en el archivo pg1232.txt es: 53317\n",
      "El tamaño de la lista de palabras en el archivo pg1259.txt es: 249968\n",
      "El tamaño de la lista de palabras en el archivo pg1260.txt es: 192578\n",
      "El tamaño de la lista de palabras en el archivo pg1342.txt es: 131914\n",
      "El tamaño de la lista de palabras en el archivo pg1400.txt es: 192193\n",
      "El tamaño de la lista de palabras en el archivo pg145.txt es: 326960\n",
      "El tamaño de la lista de palabras en el archivo pg1513.txt es: 30132\n",
      "El tamaño de la lista de palabras en el archivo pg16.txt es: 51184\n",
      "El tamaño de la lista de palabras en el archivo pg16389.txt es: 83389\n",
      "El tamaño de la lista de palabras en el archivo pg16594.txt es: 134676\n",
      "El tamaño de la lista de palabras en el archivo pg1661.txt es: 109109\n",
      "El tamaño de la lista de palabras en el archivo pg1727.txt es: 133747\n",
      "El tamaño de la lista de palabras en el archivo pg174.txt es: 83605\n",
      "El tamaño de la lista de palabras en el archivo pg1952.txt es: 9388\n",
      "El tamaño de la lista de palabras en el archivo pg19694.txt es: 159655\n",
      "El tamaño de la lista de palabras en el archivo pg19926.txt es: 156601\n",
      "El tamaño de la lista de palabras en el archivo pg1998.txt es: 117023\n",
      "El tamaño de la lista de palabras en el archivo pg2000.txt es: 386774\n",
      "El tamaño de la lista de palabras en el archivo pg20228.txt es: 213888\n",
      "El tamaño de la lista de palabras en el archivo pg205.txt es: 120552\n",
      "El tamaño de la lista de palabras en el archivo pg2160.txt es: 155534\n",
      "El tamaño de la lista de palabras en el archivo pg21700.txt es: 133859\n",
      "El tamaño de la lista de palabras en el archivo pg21765.txt es: 131334\n",
      "El tamaño de la lista de palabras en el archivo pg219.txt es: 42209\n",
      "El tamaño de la lista de palabras en el archivo pg23.txt es: 44561\n",
      "El tamaño de la lista de palabras en el archivo pg24238.txt es: 601079\n"
     ]
    },
    {
     "ename": "KeyboardInterrupt",
     "evalue": "",
     "output_type": "error",
     "traceback": [
      "\u001b[1;31m---------------------------------------------------------------------------\u001b[0m",
      "\u001b[1;31mKeyboardInterrupt\u001b[0m                         Traceback (most recent call last)",
      "Cell \u001b[1;32mIn[24], line 16\u001b[0m\n\u001b[0;32m     14\u001b[0m \u001b[38;5;28;01mif\u001b[39;00m palabra \u001b[38;5;129;01mnot\u001b[39;00m \u001b[38;5;129;01min\u001b[39;00m indice_invertido:\n\u001b[0;32m     15\u001b[0m     indice_invertido[palabra] \u001b[38;5;241m=\u001b[39m \u001b[38;5;28mset\u001b[39m()\n\u001b[1;32m---> 16\u001b[0m indice_invertido[palabra]\u001b[38;5;241m.\u001b[39madd(nombres_libros\u001b[38;5;241m.\u001b[39mindex(nombre_archivo))\n",
      "\u001b[1;31mKeyboardInterrupt\u001b[0m: "
     ]
    }
   ],
   "source": [
    "# Iterar sobre los archivos en la carpeta\n",
    "for nombre_archivo in os.listdir(ruta_carpeta):\n",
    "    nombres_libros.append(nombre_archivo)\n",
    "    ruta_libro = os.path.join(ruta_carpeta, nombre_archivo)\n",
    "    \n",
    "    with open(ruta_libro, 'r', encoding='utf-8') as archivo:\n",
    "        contenido = archivo.read()\n",
    "        palabras = procesar_texto(contenido)\n",
    "        tamaño_palabras = len(palabras)\n",
    "        print(f\"El tamaño de la lista de palabras en el archivo {nombre_archivo} es: {tamaño_palabras}\")\n",
    "        \n",
    "        # Construir el índice invertido\n",
    "        for palabra in palabras:\n",
    "            if palabra not in indice_invertido:\n",
    "                indice_invertido[palabra] = set()\n",
    "            indice_invertido[palabra].add(nombres_libros.index(nombre_archivo))\n"
   ]
  },
  {
   "cell_type": "code",
   "execution_count": null,
   "id": "956d6c53-8e82-4c50-895f-c8c3d338176d",
   "metadata": {},
   "outputs": [],
   "source": [
    "len(palabras)"
   ]
  },
  {
   "cell_type": "code",
   "execution_count": null,
   "id": "cc1661b0",
   "metadata": {},
   "outputs": [],
   "source": [
    "# Crear la matriz de índice\n",
    "num_libros = len(nombres_libros)\n",
    "num_palabras = len(indice_invertido)\n",
    "matriz_indice = [[0] * num_libros for _ in range(num_palabras)]\n",
    "\n",
    "# Llenar la matriz de índice\n",
    "palabras = list(indice_invertido.keys())\n",
    "for i, palabra in enumerate(palabras):\n",
    "    libros_que_contienen_palabra = indice_invertido[palabra]\n",
    "    for libro in libros_que_contienen_palabra:\n",
    "        matriz_indice[i][libro] = 1\n"
   ]
  },
  {
   "cell_type": "code",
   "execution_count": null,
   "id": "d3b638b2",
   "metadata": {},
   "outputs": [],
   "source": [
    "matriz_indice\n",
    "    "
   ]
  },
  {
   "cell_type": "code",
   "execution_count": null,
   "id": "6cd1f50e",
   "metadata": {},
   "outputs": [],
   "source": [
    "indice_invertido"
   ]
  },
  {
   "cell_type": "code",
   "execution_count": null,
   "id": "2df28a3d",
   "metadata": {},
   "outputs": [],
   "source": [
    "palabras"
   ]
  },
  {
   "cell_type": "code",
   "execution_count": null,
   "id": "ada40676",
   "metadata": {},
   "outputs": [],
   "source": [
    "nombres_libros"
   ]
  },
  {
   "cell_type": "code",
   "execution_count": 16,
   "id": "87e8ceab",
   "metadata": {},
   "outputs": [],
   "source": [
    "# Guardar la matriz en un archivo npy\n",
    "np.save('matriz_indice.npy', matriz_indice)\n",
    "\n"
   ]
  },
  {
   "cell_type": "code",
   "execution_count": 17,
   "id": "9655ae2c",
   "metadata": {},
   "outputs": [],
   "source": [
    "# Guardar palabras en un archivo usando pickle\n",
    "with open('palabras.pkl', 'wb') as archivo:\n",
    "    pickle.dump(palabras, archivo)\n",
    "    \n",
    "with open('nombres_libros.pkl', 'wb') as archivo:\n",
    "    pickle.dump(nombres_libros, archivo)"
   ]
  },
  {
   "cell_type": "code",
   "execution_count": null,
   "id": "7f7d9387",
   "metadata": {},
   "outputs": [],
   "source": []
  }
 ],
 "metadata": {
  "kernelspec": {
   "display_name": "Python 3 (ipykernel)",
   "language": "python",
   "name": "python3"
  },
  "language_info": {
   "codemirror_mode": {
    "name": "ipython",
    "version": 3
   },
   "file_extension": ".py",
   "mimetype": "text/x-python",
   "name": "python",
   "nbconvert_exporter": "python",
   "pygments_lexer": "ipython3",
   "version": "3.11.7"
  }
 },
 "nbformat": 4,
 "nbformat_minor": 5
}
