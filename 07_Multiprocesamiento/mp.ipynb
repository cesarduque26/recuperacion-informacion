{
 "cells": [
  {
   "cell_type": "markdown",
   "metadata": {},
   "source": [
    "mapeamos la funcion F sobre la funcion x"
   ]
  },
  {
   "cell_type": "markdown",
   "metadata": {},
   "source": []
  },
  {
   "cell_type": "code",
   "execution_count": 73,
   "metadata": {},
   "outputs": [
    {
     "name": "stderr",
     "output_type": "stream",
     "text": [
      "100%|██████████| 19000/19000 [01:24<00:00, 223.90it/s]\n"
     ]
    }
   ],
   "source": [
    "import sys\n",
    "from tqdm import tqdm\n",
    "  # Aumentar el tamaño máximo de los enteros\n",
    "sys.setrecursionlimit(1000000)\n",
    "    \n",
    "    # Definir el rango de números para calcular sus factoriales\n",
    "numeros = range(1000, 20000)\n",
    "    \n",
    "    # Calcular factorial secuencialmente con barra de progreso\n",
    "inicio_secuencial = time.time()\n",
    "factoriales_secuencial = []\n",
    "with tqdm(total=len(numeros)) as pbar:\n",
    "    for n in numeros:\n",
    "        factorial = calcular_factorial(n)\n",
    "        factoriales_secuencial.append(factorial)\n",
    "        pbar.update(1)  # Actualizar la barra de progreso\n",
    "        \n",
    "fin_secuencial = time.time()\n",
    "tiempo_secuencial = fin_secuencial - inicio_secuencial"
   ]
  }
 ],
 "metadata": {
  "kernelspec": {
   "display_name": "base",
   "language": "python",
   "name": "python3"
  },
  "language_info": {
   "codemirror_mode": {
    "name": "ipython",
    "version": 3
   },
   "file_extension": ".py",
   "mimetype": "text/x-python",
   "name": "python",
   "nbconvert_exporter": "python",
   "pygments_lexer": "ipython3",
   "version": "3.11.9"
  }
 },
 "nbformat": 4,
 "nbformat_minor": 2
}
