{
 "cells": [
  {
   "cell_type": "code",
   "execution_count": 10,
   "id": "ed74de30",
   "metadata": {},
   "outputs": [],
   "source": [
    "import os\n",
    "import re\n",
    "import threading\n",
    "import numpy as np\n",
    "import pickle\n"
   ]
  },
  {
   "cell_type": "code",
   "execution_count": 2,
   "id": "e1ea285f",
   "metadata": {},
   "outputs": [],
   "source": [
    "# Función para procesar el texto y extraer las palabras\n",
    "def procesar_texto(texto, palabras_unicas, matriz_indice, j, total_archivos):\n",
    "    palabras = re.findall(r'\\b\\w+\\b', texto.lower())\n",
    "    for i, palabra in enumerate(palabras_unicas):\n",
    "        if palabra in palabras:\n",
    "            matriz_indice[i][j] = 1\n",
    "    print(f\"Progreso: {j+1}/{total_archivos} archivos procesados ({((j+1)/total_archivos)*100:.2f}% completado)\")\n"
   ]
  },
  {
   "cell_type": "code",
   "execution_count": 3,
   "id": "59d41121",
   "metadata": {},
   "outputs": [],
   "source": [
    "# Lista para almacenar los nombres de los libros\n",
    "nombres_libros = []\n",
    "# Lista para almacenar todas las palabras encontradas\n",
    "palabras_unicas = set()"
   ]
  },
  {
   "cell_type": "code",
   "execution_count": 4,
   "id": "a48f8348",
   "metadata": {},
   "outputs": [
    {
     "data": {
      "text/plain": [
       "'C:\\\\Users\\\\cesar\\\\OneDrive - Escuela Politécnica Nacional\\\\GitHub\\\\recuperacion-informacion\\\\01 Basic Boolean Search\\\\..\\\\books'"
      ]
     },
     "execution_count": 4,
     "metadata": {},
     "output_type": "execute_result"
    }
   ],
   "source": [
    "# Obtener la ruta completa de la carpeta con los libros\n",
    "ruta_carpeta = os.path.join(os.getcwd(), '..', 'books')\n",
    "ruta_carpeta"
   ]
  },
  {
   "cell_type": "code",
   "execution_count": 5,
   "id": "8fb68879",
   "metadata": {},
   "outputs": [],
   "source": [
    "# Iterar los libros en la carpeta\n",
    "for nombre_archivo in os.listdir(ruta_carpeta):\n",
    "    nombres_libros.append(nombre_archivo)\n",
    "    ruta_libro = os.path.join(ruta_carpeta, nombre_archivo)\n",
    "    \n",
    "    with open(ruta_libro, 'r', encoding='utf-8') as archivo:\n",
    "        contenido = archivo.read()\n",
    "        palabras = re.findall(r'\\b\\w+\\b', contenido.lower())\n",
    "        palabras_unicas.update(palabras)\n"
   ]
  },
  {
   "cell_type": "code",
   "execution_count": 7,
   "id": "5b48c916",
   "metadata": {},
   "outputs": [],
   "source": [
    "# Obtener palabras únicas\n",
    "palabras_unicas = sorted(palabras_unicas)"
   ]
  },
  {
   "cell_type": "code",
   "execution_count": 8,
   "id": "cc1661b0",
   "metadata": {},
   "outputs": [],
   "source": [
    "# Crear la matriz de índice\n",
    "num_libros = len(nombres_libros)\n",
    "num_palabras = len(palabras_unicas)\n",
    "matriz_indice = [[0] * num_libros for _ in range(num_palabras)]\n",
    "\n"
   ]
  },
  {
   "cell_type": "code",
   "execution_count": null,
   "id": "62e8949e",
   "metadata": {},
   "outputs": [
    {
     "name": "stdout",
     "output_type": "stream",
     "text": [
      "Progreso: 4/100 archivos procesados (4.00% completado)\n",
      "Progreso: 21/100 archivos procesados (21.00% completado)\n"
     ]
    }
   ],
   "source": [
    "# Crear y ejecutar un hilo para procesar cada archivo\n",
    "threads = []\n",
    "for j, nombre_archivo in enumerate(nombres_libros):\n",
    "    ruta_archivo = os.path.join(ruta_carpeta, nombre_archivo)\n",
    "    with open(ruta_archivo, 'r', encoding='utf-8') as archivo:\n",
    "        contenido = archivo.read()\n",
    "    total_archivos = len(nombres_libros)\n",
    "    thread = threading.Thread(target=procesar_texto, args=(contenido, palabras_unicas, matriz_indice, j, total_archivos))\n",
    "    thread.start()\n",
    "    threads.append(thread)\n",
    "\n",
    "# Esperar a que todos los hilos terminen\n",
    "for thread in threads:\n",
    "    thread.join()"
   ]
  },
  {
   "cell_type": "code",
   "execution_count": null,
   "id": "d3b638b2",
   "metadata": {},
   "outputs": [],
   "source": [
    "matriz_indice\n",
    "    "
   ]
  },
  {
   "cell_type": "code",
   "execution_count": null,
   "id": "2df28a3d",
   "metadata": {},
   "outputs": [],
   "source": [
    "palabras"
   ]
  },
  {
   "cell_type": "code",
   "execution_count": null,
   "id": "ada40676",
   "metadata": {},
   "outputs": [],
   "source": [
    "nombres_libros"
   ]
  },
  {
   "cell_type": "code",
   "execution_count": null,
   "id": "87e8ceab",
   "metadata": {},
   "outputs": [],
   "source": [
    "# Guardar la matriz en un archivo npy\n",
    "np.save('matriz_indice.npy', matriz_indice)\n",
    "\n"
   ]
  },
  {
   "cell_type": "code",
   "execution_count": null,
   "id": "9655ae2c",
   "metadata": {},
   "outputs": [],
   "source": [
    "# Guardar palabras en un archivo usando pickle\n",
    "with open('palabras.pkl', 'wb') as archivo:\n",
    "    pickle.dump(palabras, archivo)\n",
    "    \n",
    "with open('nombres_libros.pkl', 'wb') as archivo:\n",
    "    pickle.dump(nombres_libros, archivo)"
   ]
  },
  {
   "cell_type": "code",
   "execution_count": null,
   "id": "7f7d9387",
   "metadata": {},
   "outputs": [],
   "source": []
  }
 ],
 "metadata": {
  "kernelspec": {
   "display_name": "Python 3 (ipykernel)",
   "language": "python",
   "name": "python3"
  },
  "language_info": {
   "codemirror_mode": {
    "name": "ipython",
    "version": 3
   },
   "file_extension": ".py",
   "mimetype": "text/x-python",
   "name": "python",
   "nbconvert_exporter": "python",
   "pygments_lexer": "ipython3",
   "version": "3.11.7"
  }
 },
 "nbformat": 4,
 "nbformat_minor": 5
}
