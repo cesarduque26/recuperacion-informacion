{
 "cells": [
  {
   "cell_type": "code",
   "execution_count": 1,
   "id": "1f423039",
   "metadata": {},
   "outputs": [],
   "source": [
    "import pickle\n",
    "import numpy as np\n"
   ]
  },
  {
   "cell_type": "code",
   "execution_count": 2,
   "id": "01d98b54",
   "metadata": {},
   "outputs": [],
   "source": [
    "# Cargar palabras desde el archivo\n",
    "with open('palabras.pkl', 'rb') as archivo:\n",
    "    palabras = pickle.load(archivo)\n",
    "\n",
    "# Cargar nombres_archivos desde el archivo\n",
    "with open('nombres_libros.pkl', 'rb') as archivo:\n",
    "    nombres_libros = pickle.load(archivo)\n",
    "# Cargar la matriz desde el archivo npy\n",
    "matriz_indice = np.load('matriz_indice.npy')"
   ]
  },
  {
   "cell_type": "code",
   "execution_count": 3,
   "id": "946abcc1",
   "metadata": {},
   "outputs": [],
   "source": [
    "def buscar_palabra(palabra, matriz_indice, nombres_de_libros):\n",
    "    # Obtener el índice de la palabra en la lista de palabras\n",
    "    indice_palabra = palabras.index(palabra) if palabra in palabras else -1\n",
    "    \n",
    "    if indice_palabra != -1:\n",
    "        # Encontrar los índices de los libros donde aparece la palabra\n",
    "        indices_libros = np.where(matriz_indice[indice_palabra] == 1)[0]\n",
    "        \n",
    "        # Mapear los índices de libros a los nombres de los libros\n",
    "        libros_con_palabra = [nombres_de_libros[i] for i in indices_libros]\n",
    "        \n",
    "        return libros_con_palabra\n",
    "    else:\n",
    "        return \"La palabra no se encuentra en los libros.\"\n",
    "\n"
   ]
  },
  {
   "cell_type": "code",
   "execution_count": 22,
   "id": "19416c86",
   "metadata": {},
   "outputs": [
    {
     "name": "stdout",
     "output_type": "stream",
     "text": [
      "Ingrese la palabra que desea buscar: keyboard\n"
     ]
    }
   ],
   "source": [
    "# Solicitar la palabra al usuario\n",
    "palabra_buscada = input(\"Ingrese la palabra que desea buscar: \")\n",
    "\n",
    "\n"
   ]
  },
  {
   "cell_type": "code",
   "execution_count": 23,
   "id": "fa1bfd94",
   "metadata": {},
   "outputs": [],
   "source": [
    "# Buscar la palabra en la matriz de índice\n",
    "resultados = buscar_palabra(palabra_buscada, matriz_indice, nombres_libros)\n"
   ]
  },
  {
   "cell_type": "code",
   "execution_count": 24,
   "id": "8d9f9752",
   "metadata": {},
   "outputs": [
    {
     "name": "stdout",
     "output_type": "stream",
     "text": [
      "La palabra se encuentra en los siguientes libros:\n",
      "-  pg10681.txt\n",
      "-  pg2600.txt\n",
      "-  pg2814.txt\n",
      "-  pg3825.txt\n",
      "-  pg4300.txt\n"
     ]
    }
   ],
   "source": [
    "# Imprimir los resultados\n",
    "if isinstance(resultados, list):\n",
    "    print(\"La palabra se encuentra en los siguientes libros:\")\n",
    "    for libro in resultados:\n",
    "        print(\"- \", libro)\n",
    "else:\n",
    "    print(resultados)"
   ]
  },
  {
   "cell_type": "code",
   "execution_count": null,
   "id": "c78153e6",
   "metadata": {},
   "outputs": [],
   "source": []
  }
 ],
 "metadata": {
  "kernelspec": {
   "display_name": "Python 3 (ipykernel)",
   "language": "python",
   "name": "python3"
  },
  "language_info": {
   "codemirror_mode": {
    "name": "ipython",
    "version": 3
   },
   "file_extension": ".py",
   "mimetype": "text/x-python",
   "name": "python",
   "nbconvert_exporter": "python",
   "pygments_lexer": "ipython3",
   "version": "3.11.7"
  }
 },
 "nbformat": 4,
 "nbformat_minor": 5
}
