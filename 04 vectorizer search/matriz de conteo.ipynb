{
 "cells": [
  {
   "cell_type": "markdown",
   "id": "6b96e423",
   "metadata": {},
   "source": [
    "# Exploring Ranking Models in Information Retrieval\n",
    "\n",
    "## Objective\n",
    "Understand the practical implementation and differences between the Vector Space Model and the Binary Independence Model in ranking documents relative to a user query.\n",
    "\n",
    "### Step 1: Data Preprocessing\n",
    "\n",
    "Ensure that the documents are still loaded and preprocessed from the previous task. The data should be clean and ready for advanced querying.\n",
    "Write a function to load and preprocess the text documents from a specified directory. This step involves reading each file, converting the text to lowercase for uniform processing, and storing the results in a dictionary."
   ]
  },
  {
   "cell_type": "code",
   "execution_count": 1,
   "id": "1f423039",
   "metadata": {},
   "outputs": [],
   "source": [
    "import pickle\n",
    "import numpy as np\n",
    "import os\n",
    "from tqdm import tqdm  # Importa la función tqdm para mostrar la barra de progreso\n",
    "import re\n"
   ]
  },
  {
   "cell_type": "code",
   "execution_count": 2,
   "id": "01d98b54",
   "metadata": {},
   "outputs": [],
   "source": [
    "# Cargar palabras desde el archivo\n",
    "with open('palabras.pkl', 'rb') as archivo:\n",
    "    palabras = pickle.load(archivo)\n",
    "\n",
    "# Cargar nombres_archivos desde el archivo\n",
    "with open('nombres_libros.pkl', 'rb') as archivo:\n",
    "    nombres_libros = pickle.load(archivo)\n",
    "# Cargar la matriz desde el archivo npy\n",
    "matriz_indice = np.load('matriz_indice.npy')"
   ]
  },
  {
   "cell_type": "code",
   "execution_count": 3,
   "id": "c9cc0c0d",
   "metadata": {},
   "outputs": [],
   "source": [
    "# Obtener la ruta completa de la carpeta con los libros\n",
    "ruta_carpeta = os.path.join(os.getcwd(),'..', 'books')"
   ]
  },
  {
   "cell_type": "code",
   "execution_count": 4,
   "id": "8ced7956",
   "metadata": {},
   "outputs": [],
   "source": [
    "# Función para procesar el texto y extraer las palabras\n",
    "def procesar_texto(texto):\n",
    "    palabras = re.findall(r'\\b\\w+\\b', texto.lower())\n",
    "    return palabras"
   ]
  },
  {
   "cell_type": "code",
   "execution_count": 5,
   "id": "946abcc1",
   "metadata": {},
   "outputs": [
    {
     "data": {
      "text/plain": [
       "array([[1, 1, 1, ..., 1, 1, 1],\n",
       "       [1, 1, 1, ..., 1, 1, 1],\n",
       "       [1, 1, 1, ..., 1, 1, 1],\n",
       "       ...,\n",
       "       [0, 0, 0, ..., 0, 0, 1],\n",
       "       [0, 0, 0, ..., 0, 0, 1],\n",
       "       [0, 0, 0, ..., 0, 0, 1]])"
      ]
     },
     "execution_count": 5,
     "metadata": {},
     "output_type": "execute_result"
    }
   ],
   "source": [
    "matriz_indice\n"
   ]
  },
  {
   "cell_type": "code",
   "execution_count": 7,
   "id": "60ad30d5",
   "metadata": {},
   "outputs": [
    {
     "name": "stderr",
     "output_type": "stream",
     "text": [
      "100%|██████████| 100/100 [00:06<00:00, 14.37it/s]\n"
     ]
    }
   ],
   "source": [
    "libros=[]\n",
    "for nombre_libro in tqdm(nombres_libros,total=len(nombres_libros)):\n",
    "    ruta_libro = os.path.join(ruta_carpeta,nombre_libro)\n",
    "    with open(ruta_libro, 'r', encoding='utf-8') as archivo:\n",
    "        contenido_libro = archivo.read()\n",
    "        contenido_libro=procesar_texto(contenido_libro)\n",
    "        libros.append(contenido_libro)\n"
   ]
  },
  {
   "cell_type": "code",
   "execution_count": 8,
   "id": "0b9c08d8",
   "metadata": {},
   "outputs": [
    {
     "name": "stderr",
     "output_type": "stream",
     "text": [
      "100%|██████████| 1013164/1013164 [1:18:20<00:00, 215.53it/s] \n"
     ]
    }
   ],
   "source": [
    "# Encontrar las posiciones donde el valor es 1\n",
    "filas, columnas = np.where(matriz_indice == 1)\n",
    "total_iteraciones = len(filas)\n",
    "# Realizar la acción solo en las posiciones donde el valor es 1\n",
    "for fila, columna in tqdm(zip(filas, columnas), total=total_iteraciones):\n",
    "    contenido_libro = libros[columna]\n",
    "    veces_repetida = contenido_libro.count(palabras[fila])\n",
    "    matriz_indice[fila][columna]=veces_repetida\n"
   ]
  },
  {
   "cell_type": "code",
   "execution_count": 11,
   "id": "32108192",
   "metadata": {},
   "outputs": [
    {
     "data": {
      "text/plain": [
       "array([[30526,  8399,  4987, ...,  5739,  8241, 22477],\n",
       "       [  101,   114,   101, ...,    88,    88,    95],\n",
       "       [   97,    98,    99, ...,    97,    97,    98],\n",
       "       ...,\n",
       "       [    0,     0,     0, ...,     0,     0,     1],\n",
       "       [    0,     0,     0, ...,     0,     0,     1],\n",
       "       [    0,     0,     0, ...,     0,     0,     1]])"
      ]
     },
     "execution_count": 11,
     "metadata": {},
     "output_type": "execute_result"
    }
   ],
   "source": [
    "matriz_indice\n"
   ]
  },
  {
   "cell_type": "code",
   "execution_count": 12,
   "id": "99b0ba0c",
   "metadata": {},
   "outputs": [],
   "source": [
    "np.save('matriz_de_conteo.npy', matriz_indice)"
   ]
  },
  {
   "cell_type": "code",
   "execution_count": 13,
   "id": "e7eeb22d",
   "metadata": {},
   "outputs": [
    {
     "data": {
      "text/plain": [
       "array([30526,  8399,  8616,   357,  1839, 28637,  4600,  3119, 14535,\n",
       "        8043,  4846,  8331, 12777,   877,  2529,  3385,  8856,  5815,\n",
       "        7088,  3956,   433, 14375,  9223,  6132, 20769, 12900,  7544,\n",
       "        8679,  5962, 10399,  2481,  2445, 31482,  2724,  5500,  1062,\n",
       "        8008, 11396,  7232, 34737,  3296, 14715,  4681, 15430,  4249,\n",
       "        3542, 44572, 38035,  8134, 15158,  3030,  8101,  1506,  8314,\n",
       "        3601,  1571,  3198,  7540, 14315,  5835,  9479,  4229, 17014,\n",
       "        1807, 15092,  4030,  4113,  1761, 14313,  8393,  2419,  8153,\n",
       "       13790,  1348,  9625,  6291,  3196,  2370,  1741, 15763,  4263,\n",
       "        9806,  2594, 17118,  1066, 10142,  2750,   999,  1180,  1835,\n",
       "        3221,  3633,  3984,  6439,  4814,  4387,   831,  5739,  8241,\n",
       "       22477])"
      ]
     },
     "execution_count": 13,
     "metadata": {},
     "output_type": "execute_result"
    }
   ],
   "source": [
    "# Calcular el máximo valor de cada columna\n",
    "maximos_columnas = np.max(matriz_indice, axis=0)\n",
    "maximos_columnas"
   ]
  },
  {
   "cell_type": "code",
   "execution_count": 17,
   "id": "63ff646f",
   "metadata": {},
   "outputs": [
    {
     "data": {
      "text/plain": [
       "array([[1.00000000e+00, 1.00000000e+00, 5.78806871e-01, ...,\n",
       "        1.00000000e+00, 1.00000000e+00, 1.00000000e+00],\n",
       "       [3.30865492e-03, 1.35730444e-02, 1.17223770e-02, ...,\n",
       "        1.53336818e-02, 1.06783157e-02, 4.22654269e-03],\n",
       "       [3.17761908e-03, 1.16680557e-02, 1.14902507e-02, ...,\n",
       "        1.69018993e-02, 1.17704162e-02, 4.36001246e-03],\n",
       "       ...,\n",
       "       [0.00000000e+00, 0.00000000e+00, 0.00000000e+00, ...,\n",
       "        0.00000000e+00, 0.00000000e+00, 4.44899230e-05],\n",
       "       [0.00000000e+00, 0.00000000e+00, 0.00000000e+00, ...,\n",
       "        0.00000000e+00, 0.00000000e+00, 4.44899230e-05],\n",
       "       [0.00000000e+00, 0.00000000e+00, 0.00000000e+00, ...,\n",
       "        0.00000000e+00, 0.00000000e+00, 4.44899230e-05]])"
      ]
     },
     "execution_count": 17,
     "metadata": {},
     "output_type": "execute_result"
    }
   ],
   "source": [
    "matriz_normalizada = matriz_indice / maximos_columnas\n",
    "matriz_normalizada"
   ]
  },
  {
   "cell_type": "code",
   "execution_count": 18,
   "id": "50907ba1",
   "metadata": {},
   "outputs": [],
   "source": [
    "np.save('matriz_normalizada.npy',matriz_normalizada)"
   ]
  }
 ],
 "metadata": {
  "kernelspec": {
   "display_name": "Python 3 (ipykernel)",
   "language": "python",
   "name": "python3"
  },
  "language_info": {
   "codemirror_mode": {
    "name": "ipython",
    "version": 3
   },
   "file_extension": ".py",
   "mimetype": "text/x-python",
   "name": "python",
   "nbconvert_exporter": "python",
   "pygments_lexer": "ipython3",
   "version": "3.11.7"
  }
 },
 "nbformat": 4,
 "nbformat_minor": 5
}
