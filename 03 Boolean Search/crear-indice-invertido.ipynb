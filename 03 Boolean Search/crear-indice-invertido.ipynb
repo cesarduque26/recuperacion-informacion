{
 "cells": [
  {
   "cell_type": "markdown",
   "id": "b4fa38c0-5371-4169-a4b5-8947a4a8ae15",
   "metadata": {},
   "source": [
    "# Boolean Search in Documents\n",
    "\n",
    "## Objective\n",
    "Expand the simple term search functionality to include Boolean search capabilities. This will allow users to perform more complex queries by combining multiple search terms using Boolean operators.\n",
    "\n",
    "## Problem Description\n",
    "You must enhance the existing search engine from the previous exercise to support Boolean operators: AND, OR, and NOT. This will enable the retrieval of documents based on the logical relationships between multiple terms.\n",
    "\n",
    "## Requirements\n",
    "\n",
    "### Step 1: Update Data Preparation\n",
    "Ensure that the documents are still loaded and preprocessed from the previous task. The data should be clean and ready for advanced querying.\n",
    "\n",
    "### Step 2: Create an Inverted Index\n",
    "\n",
    "Create an inverted index from the documents. This index maps each word to the set of document IDs in which that word appears. This facilitates word lookup in the search process.\n",
    "cess."
   ]
  },
  {
   "cell_type": "code",
   "execution_count": 7,
   "id": "ed74de30",
   "metadata": {},
   "outputs": [],
   "source": [
    "import os\n",
    "import re\n",
    "import numpy as np\n",
    "import pickle\n"
   ]
  },
  {
   "cell_type": "code",
   "execution_count": 8,
   "id": "e1ea285f",
   "metadata": {},
   "outputs": [],
   "source": [
    "# Función para procesar el texto y extraer las palabras\n",
    "def procesar_texto(texto):\n",
    "    palabras = re.findall(r'\\b\\w+\\b', texto.lower())\n",
    "    return palabras"
   ]
  },
  {
   "cell_type": "code",
   "execution_count": 9,
   "id": "59d41121",
   "metadata": {},
   "outputs": [],
   "source": [
    "# Diccionario para almacenar el índice invertido\n",
    "indice_invertido = {}\n",
    "\n",
    "# Lista para almacenar los nombres de los archivos\n",
    "nombres_libros = []"
   ]
  },
  {
   "cell_type": "code",
   "execution_count": 10,
   "id": "a48f8348",
   "metadata": {},
   "outputs": [],
   "source": [
    "# Obtener la ruta completa de la carpeta con los libros\n",
    "ruta_carpeta = os.path.join(os.getcwd(),'..', 'books')"
   ]
  },
  {
   "cell_type": "code",
   "execution_count": 12,
   "id": "8fb68879",
   "metadata": {},
   "outputs": [
    {
     "name": "stdout",
     "output_type": "stream",
     "text": [
      "C:\\Users\\cesar\\OneDrive - Escuela Politécnica Nacional\\GitHub\\recuperacion-informacion\\03 Boolean Search\\..\\books\\pg100.txt\n",
      "C:\\Users\\cesar\\OneDrive - Escuela Politécnica Nacional\\GitHub\\recuperacion-informacion\\03 Boolean Search\\..\\books\\pg10676.txt\n",
      "C:\\Users\\cesar\\OneDrive - Escuela Politécnica Nacional\\GitHub\\recuperacion-informacion\\03 Boolean Search\\..\\books\\pg10681.txt\n",
      "C:\\Users\\cesar\\OneDrive - Escuela Politécnica Nacional\\GitHub\\recuperacion-informacion\\03 Boolean Search\\..\\books\\pg1080.txt\n",
      "C:\\Users\\cesar\\OneDrive - Escuela Politécnica Nacional\\GitHub\\recuperacion-informacion\\03 Boolean Search\\..\\books\\pg11.txt\n",
      "C:\\Users\\cesar\\OneDrive - Escuela Politécnica Nacional\\GitHub\\recuperacion-informacion\\03 Boolean Search\\..\\books\\pg1184.txt\n",
      "C:\\Users\\cesar\\OneDrive - Escuela Politécnica Nacional\\GitHub\\recuperacion-informacion\\03 Boolean Search\\..\\books\\pg120.txt\n",
      "C:\\Users\\cesar\\OneDrive - Escuela Politécnica Nacional\\GitHub\\recuperacion-informacion\\03 Boolean Search\\..\\books\\pg1232.txt\n",
      "C:\\Users\\cesar\\OneDrive - Escuela Politécnica Nacional\\GitHub\\recuperacion-informacion\\03 Boolean Search\\..\\books\\pg1259.txt\n",
      "C:\\Users\\cesar\\OneDrive - Escuela Politécnica Nacional\\GitHub\\recuperacion-informacion\\03 Boolean Search\\..\\books\\pg1260.txt\n",
      "C:\\Users\\cesar\\OneDrive - Escuela Politécnica Nacional\\GitHub\\recuperacion-informacion\\03 Boolean Search\\..\\books\\pg1342.txt\n",
      "C:\\Users\\cesar\\OneDrive - Escuela Politécnica Nacional\\GitHub\\recuperacion-informacion\\03 Boolean Search\\..\\books\\pg1400.txt\n"
     ]
    },
    {
     "ename": "KeyboardInterrupt",
     "evalue": "",
     "output_type": "error",
     "traceback": [
      "\u001b[1;31m---------------------------------------------------------------------------\u001b[0m",
      "\u001b[1;31mKeyboardInterrupt\u001b[0m                         Traceback (most recent call last)",
      "Cell \u001b[1;32mIn[12], line 14\u001b[0m\n\u001b[0;32m     12\u001b[0m \u001b[38;5;28;01mif\u001b[39;00m palabra \u001b[38;5;129;01mnot\u001b[39;00m \u001b[38;5;129;01min\u001b[39;00m indice_invertido:\n\u001b[0;32m     13\u001b[0m     indice_invertido[palabra] \u001b[38;5;241m=\u001b[39m \u001b[38;5;28mset\u001b[39m()\n\u001b[1;32m---> 14\u001b[0m indice_invertido[palabra]\u001b[38;5;241m.\u001b[39madd(nombres_libros\u001b[38;5;241m.\u001b[39mindex(nombre_archivo))\n",
      "\u001b[1;31mKeyboardInterrupt\u001b[0m: "
     ]
    }
   ],
   "source": [
    "# Iterar sobre los archivos en la carpeta\n",
    "for nombre_archivo in os.listdir(ruta_carpeta):\n",
    "    nombres_libros.append(nombre_archivo)\n",
    "    ruta_libro = os.path.join(ruta_carpeta, nombre_archivo)\n",
    "    print(ruta_libro)\n",
    "    with open(ruta_libro, 'r', encoding='utf-8') as archivo:\n",
    "        contenido = archivo.read()\n",
    "        palabras = procesar_texto(contenido)\n",
    "       \n",
    "        # Construir el índice invertido\n",
    "        for palabra in palabras:\n",
    "            if palabra not in indice_invertido:\n",
    "                indice_invertido[palabra] = set()\n",
    "            indice_invertido[palabra].add(nombres_libros.index(nombre_archivo))\n"
   ]
  },
  {
   "cell_type": "code",
   "execution_count": null,
   "id": "9655ae2c",
   "metadata": {},
   "outputs": [],
   "source": [
    "# Guardar el índice invertido en un archivo\n",
    "with open('indice_invertido.pkl', 'wb') as archivo:\n",
    "    pickle.dump(indice_invertido, archivo)\n",
    "\n",
    "with open('nombres_libros.pkl', 'wb') as archivo:\n",
    "    pickle.dump(nombres_libros, archivo)"
   ]
  },
  {
   "cell_type": "code",
   "execution_count": 6,
   "id": "78190df2",
   "metadata": {},
   "outputs": [
    {
     "data": {
      "text/plain": [
       "199829"
      ]
     },
     "execution_count": 6,
     "metadata": {},
     "output_type": "execute_result"
    }
   ],
   "source": [
    "len(indice_invertido)"
   ]
  },
  {
   "cell_type": "code",
   "execution_count": null,
   "id": "c324fb0a",
   "metadata": {},
   "outputs": [],
   "source": []
  }
 ],
 "metadata": {
  "kernelspec": {
   "display_name": "Python 3 (ipykernel)",
   "language": "python",
   "name": "python3"
  },
  "language_info": {
   "codemirror_mode": {
    "name": "ipython",
    "version": 3
   },
   "file_extension": ".py",
   "mimetype": "text/x-python",
   "name": "python",
   "nbconvert_exporter": "python",
   "pygments_lexer": "ipython3",
   "version": "3.11.7"
  }
 },
 "nbformat": 4,
 "nbformat_minor": 5
}
