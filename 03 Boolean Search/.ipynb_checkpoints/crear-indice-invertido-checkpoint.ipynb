{
 "cells": [
  {
   "cell_type": "markdown",
   "id": "b4fa38c0-5371-4169-a4b5-8947a4a8ae15",
   "metadata": {},
   "source": [
    "# Boolean Search in Documents\r\n",
    "\r\n",
    "## Objective\r\n",
    "Expand the simple term search functionality to include Boolean search capabilities. This will allow users to perform more complex queries by combining multiple search terms using Boolean operators.\r\n",
    "\r\n",
    "## Problem Description\r\n",
    "You must enhance the existing search engine from the previous exercise to support Boolean operators: AND, OR, and NOT. This will enable the retrieval of documents based on the logical relationships between multiple terms.\r\n",
    "\r\n",
    "## Requirements\r\n",
    "\r\n",
    "### Step 1: Update Data Preparation\r\n",
    "Ensure that the documents are still loaded and preprocessed from the previous task. The data should be clean and ready for advanced querying.\r\n",
    "\r\n",
    "### Step 2: Create an Inverted Index\r\n",
    "\r\n",
    "Create an inverted index from the documents. This index maps each word to the set of document IDs in which that word appears. This facilitates word lookup in the search process.\r\n",
    "cess."
   ]
  },
  {
   "cell_type": "code",
   "execution_count": 1,
   "id": "ed74de30",
   "metadata": {},
   "outputs": [],
   "source": [
    "import os\n",
    "import re\n",
    "import numpy as np\n",
    "import pickle\n"
   ]
  },
  {
   "cell_type": "code",
   "execution_count": 2,
   "id": "e1ea285f",
   "metadata": {},
   "outputs": [],
   "source": [
    "# Función para procesar el texto y extraer las palabras\n",
    "def procesar_texto(texto):\n",
    "    palabras = re.findall(r'\\b\\w+\\b', texto.lower())\n",
    "    return palabras"
   ]
  },
  {
   "cell_type": "code",
   "execution_count": 3,
   "id": "59d41121",
   "metadata": {},
   "outputs": [],
   "source": [
    "# Diccionario para almacenar el índice invertido\n",
    "indice_invertido = {}\n",
    "\n",
    "# Lista para almacenar los nombres de los archivos\n",
    "nombres_libros = []"
   ]
  },
  {
   "cell_type": "code",
   "execution_count": 4,
   "id": "a48f8348",
   "metadata": {},
   "outputs": [],
   "source": [
    "# Obtener la ruta completa de la carpeta con los libros\n",
    "ruta_carpeta = os.path.join(os.getcwd(),'..', 'books')"
   ]
  },
  {
   "cell_type": "code",
   "execution_count": 6,
   "id": "8fb68879",
   "metadata": {},
   "outputs": [],
   "source": [
    "# Iterar sobre los archivos en la carpeta\n",
    "for nombre_archivo in os.listdir(ruta_carpeta):\n",
    "    nombres_libros.append(nombre_archivo)\n",
    "    ruta_libro = os.path.join(ruta_carpeta, nombre_archivo)\n",
    "    \n",
    "    with open(ruta_libro, 'r', encoding='utf-8') as archivo:\n",
    "        contenido = archivo.read()\n",
    "        palabras = procesar_texto(contenido)\n",
    "       \n",
    "        # Construir el índice invertido\n",
    "        for palabra in palabras:\n",
    "            if palabra not in indice_invertido:\n",
    "                indice_invertido[palabra] = set()\n",
    "            indice_invertido[palabra].add(nombres_libros.index(nombre_archivo))\n"
   ]
  },
  {
   "cell_type": "code",
   "execution_count": 9,
   "id": "9655ae2c",
   "metadata": {},
   "outputs": [],
   "source": [
    "# Guardar el índice invertido en un archivo\n",
    "with open('indice_invertido.pkl', 'wb') as archivo:\n",
    "    pickle.dump(indice_invertido, archivo)\n",
    "\n",
    "with open('nombres_libros.pkl', 'wb') as archivo:\n",
    "    pickle.dump(nombres_libros, archivo)"
   ]
  }
 ],
 "metadata": {
  "kernelspec": {
   "display_name": "Python 3 (ipykernel)",
   "language": "python",
   "name": "python3"
  },
  "language_info": {
   "codemirror_mode": {
    "name": "ipython",
    "version": 3
   },
   "file_extension": ".py",
   "mimetype": "text/x-python",
   "name": "python",
   "nbconvert_exporter": "python",
   "pygments_lexer": "ipython3",
   "version": "3.11.7"
  }
 },
 "nbformat": 4,
 "nbformat_minor": 5
}
